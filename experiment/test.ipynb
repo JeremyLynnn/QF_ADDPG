{
 "cells": [
  {
   "cell_type": "code",
   "execution_count": 28,
   "metadata": {
    "collapsed": true
   },
   "outputs": [],
   "source": [
    "from tools.data import DataLoader\n",
    "import pandas as pd\n",
    "import matplotlib.pyplot as plt"
   ]
  },
  {
   "cell_type": "code",
   "execution_count": 29,
   "outputs": [
    {
     "name": "stdout",
     "output_type": "stream",
     "text": [
      "The shape of data is (4677, 19, 6)--Train mode\n"
     ]
    }
   ],
   "source": [
    "loader_params = {\n",
    "    'gap':1,\n",
    "    'data_type':'NDX',\n",
    "    'train_ratio':0.8,\n",
    "    'win_size':11,\n",
    "    'start_idx': 1,\n",
    "    'feature_num': 4,\n",
    "    'market_feature': ['Open','High','Low','Close','QPL1','QPL-1'],\n",
    "    'mode':'Train',\n",
    "    # 'args':args,\n",
    "}\n",
    "dl = DataLoader(**loader_params)"
   ],
   "metadata": {
    "collapsed": false
   }
  },
  {
   "cell_type": "code",
   "execution_count": 26,
   "outputs": [],
   "source": [
    "dt = dl.data[-1168:,:,3]\n",
    "# dt = dt[1:]/dt[:-1]"
   ],
   "metadata": {
    "collapsed": false
   }
  },
  {
   "cell_type": "code",
   "execution_count": null,
   "outputs": [],
   "source": [
    "dl.data[]"
   ],
   "metadata": {
    "collapsed": false
   }
  },
  {
   "cell_type": "code",
   "execution_count": 27,
   "outputs": [
    {
     "data": {
      "text/plain": "(1.0204194429522815, 0.9738139411696582)"
     },
     "execution_count": 27,
     "metadata": {},
     "output_type": "execute_result"
    }
   ],
   "source": [
    "(dt[-1]/dt[0]).max(),(dt[-1]/dt[0]).mean()"
   ],
   "metadata": {
    "collapsed": false
   }
  },
  {
   "cell_type": "code",
   "execution_count": 4,
   "outputs": [
    {
     "data": {
      "text/plain": "                   Open     High      Low    Close  Volumn    Return  \\\nYear Month Day                                                         \n2020 10    14   0.94102  0.94407  0.93775  0.93858   70000  1.000000   \n           13   0.94517  0.94539  0.93951  0.94103   44218  1.002610   \n           12   0.94925  0.94961  0.94431  0.94516    2712  1.004389   \n           11   0.94860  0.94948  0.94762  0.94925   50766  1.004327   \n           9    0.94636  0.95032  0.94568  0.94947   52729  1.000232   \n...                 ...      ...      ...      ...     ...       ...   \n2014 3     26   1.02285  1.03145  1.02143  1.02335   56478  1.001066   \n           25   1.02185  1.02545  1.02130  1.02286   59060  0.999521   \n           24   1.02064  1.02411  1.01641  1.02185    4474  0.999013   \n           23   1.02050  1.02185  1.02034  1.02062   51348  0.998796   \n           21   1.01575  1.02223  1.01416  1.01888       0  0.998295   \n\n                    QPL1      QPL2      QPL3      QPL4  ...     QPL-3  \\\nYear Month Day                                          ...             \n2020 10    14   0.943023  0.953449  0.966383  0.980900  ...  0.911577   \n           13   0.945484  0.955938  0.968906  0.983461  ...  0.913956   \n           12   0.949634  0.960133  0.973158  0.987777  ...  0.917967   \n           11   0.953743  0.964288  0.977369  0.992051  ...  0.921940   \n           9    0.953964  0.964512  0.977596  0.992281  ...  0.922153   \n...                  ...       ...       ...       ...  ...       ...   \n2014 3     26   1.028194  1.039562  1.053665  1.069493  ...  0.993908   \n           25   1.027702  1.039064  1.053160  1.068981  ...  0.993432   \n           24   1.026687  1.038038  1.052120  1.067925  ...  0.992451   \n           23   1.025451  1.036789  1.050854  1.066640  ...  0.991256   \n           21   1.023703  1.035021  1.049062  1.064821  ...  0.989566   \n\n                   QPL-4     QPL-5     QPL-6     QPL-7     QPL-8     QPL-9  \\\nYear Month Day                                                               \n2020 10    14   0.898086  0.883851  0.869124  0.854083  0.838863  0.823569   \n           13   0.900430  0.886159  0.871393  0.856313  0.841053  0.825719   \n           12   0.904382  0.890048  0.875217  0.860071  0.844744  0.829343   \n           11   0.908295  0.893899  0.879005  0.863793  0.848400  0.832932   \n           9    0.908506  0.894106  0.879208  0.863993  0.848596  0.833125   \n...                  ...       ...       ...       ...       ...       ...   \n2014 3     26   0.979198  0.963678  0.947621  0.931222  0.914627  0.897952   \n           25   0.978729  0.963217  0.947167  0.930776  0.914189  0.897522   \n           24   0.977763  0.962266  0.946232  0.929857  0.913287  0.896635   \n           23   0.976586  0.961108  0.945093  0.928737  0.912187  0.895556   \n           21   0.974921  0.959469  0.943482  0.927154  0.910632  0.894029   \n\n                  QPL-10    QPL-11    QPL-12  \nYear Month Day                                \n2020 10    14   0.808283  0.793070  0.777983  \n           13   0.810393  0.795140  0.780014  \n           12   0.813949  0.798630  0.783437  \n           11   0.817472  0.802086  0.786827  \n           9    0.817661  0.802272  0.787010  \n...                  ...       ...       ...  \n2014 3     26   0.881285  0.864698  0.848248  \n           25   0.880863  0.864284  0.847842  \n           24   0.879993  0.863430  0.847005  \n           23   0.878934  0.862391  0.845985  \n           21   0.877435  0.860921  0.844543  \n\n[2047 rows x 30 columns]",
      "text/html": "<div>\n<style scoped>\n    .dataframe tbody tr th:only-of-type {\n        vertical-align: middle;\n    }\n\n    .dataframe tbody tr th {\n        vertical-align: top;\n    }\n\n    .dataframe thead th {\n        text-align: right;\n    }\n</style>\n<table border=\"1\" class=\"dataframe\">\n  <thead>\n    <tr style=\"text-align: right;\">\n      <th></th>\n      <th></th>\n      <th></th>\n      <th>Open</th>\n      <th>High</th>\n      <th>Low</th>\n      <th>Close</th>\n      <th>Volumn</th>\n      <th>Return</th>\n      <th>QPL1</th>\n      <th>QPL2</th>\n      <th>QPL3</th>\n      <th>QPL4</th>\n      <th>...</th>\n      <th>QPL-3</th>\n      <th>QPL-4</th>\n      <th>QPL-5</th>\n      <th>QPL-6</th>\n      <th>QPL-7</th>\n      <th>QPL-8</th>\n      <th>QPL-9</th>\n      <th>QPL-10</th>\n      <th>QPL-11</th>\n      <th>QPL-12</th>\n    </tr>\n    <tr>\n      <th>Year</th>\n      <th>Month</th>\n      <th>Day</th>\n      <th></th>\n      <th></th>\n      <th></th>\n      <th></th>\n      <th></th>\n      <th></th>\n      <th></th>\n      <th></th>\n      <th></th>\n      <th></th>\n      <th></th>\n      <th></th>\n      <th></th>\n      <th></th>\n      <th></th>\n      <th></th>\n      <th></th>\n      <th></th>\n      <th></th>\n      <th></th>\n      <th></th>\n    </tr>\n  </thead>\n  <tbody>\n    <tr>\n      <th rowspan=\"5\" valign=\"top\">2020</th>\n      <th rowspan=\"5\" valign=\"top\">10</th>\n      <th>14</th>\n      <td>0.94102</td>\n      <td>0.94407</td>\n      <td>0.93775</td>\n      <td>0.93858</td>\n      <td>70000</td>\n      <td>1.000000</td>\n      <td>0.943023</td>\n      <td>0.953449</td>\n      <td>0.966383</td>\n      <td>0.980900</td>\n      <td>...</td>\n      <td>0.911577</td>\n      <td>0.898086</td>\n      <td>0.883851</td>\n      <td>0.869124</td>\n      <td>0.854083</td>\n      <td>0.838863</td>\n      <td>0.823569</td>\n      <td>0.808283</td>\n      <td>0.793070</td>\n      <td>0.777983</td>\n    </tr>\n    <tr>\n      <th>13</th>\n      <td>0.94517</td>\n      <td>0.94539</td>\n      <td>0.93951</td>\n      <td>0.94103</td>\n      <td>44218</td>\n      <td>1.002610</td>\n      <td>0.945484</td>\n      <td>0.955938</td>\n      <td>0.968906</td>\n      <td>0.983461</td>\n      <td>...</td>\n      <td>0.913956</td>\n      <td>0.900430</td>\n      <td>0.886159</td>\n      <td>0.871393</td>\n      <td>0.856313</td>\n      <td>0.841053</td>\n      <td>0.825719</td>\n      <td>0.810393</td>\n      <td>0.795140</td>\n      <td>0.780014</td>\n    </tr>\n    <tr>\n      <th>12</th>\n      <td>0.94925</td>\n      <td>0.94961</td>\n      <td>0.94431</td>\n      <td>0.94516</td>\n      <td>2712</td>\n      <td>1.004389</td>\n      <td>0.949634</td>\n      <td>0.960133</td>\n      <td>0.973158</td>\n      <td>0.987777</td>\n      <td>...</td>\n      <td>0.917967</td>\n      <td>0.904382</td>\n      <td>0.890048</td>\n      <td>0.875217</td>\n      <td>0.860071</td>\n      <td>0.844744</td>\n      <td>0.829343</td>\n      <td>0.813949</td>\n      <td>0.798630</td>\n      <td>0.783437</td>\n    </tr>\n    <tr>\n      <th>11</th>\n      <td>0.94860</td>\n      <td>0.94948</td>\n      <td>0.94762</td>\n      <td>0.94925</td>\n      <td>50766</td>\n      <td>1.004327</td>\n      <td>0.953743</td>\n      <td>0.964288</td>\n      <td>0.977369</td>\n      <td>0.992051</td>\n      <td>...</td>\n      <td>0.921940</td>\n      <td>0.908295</td>\n      <td>0.893899</td>\n      <td>0.879005</td>\n      <td>0.863793</td>\n      <td>0.848400</td>\n      <td>0.832932</td>\n      <td>0.817472</td>\n      <td>0.802086</td>\n      <td>0.786827</td>\n    </tr>\n    <tr>\n      <th>9</th>\n      <td>0.94636</td>\n      <td>0.95032</td>\n      <td>0.94568</td>\n      <td>0.94947</td>\n      <td>52729</td>\n      <td>1.000232</td>\n      <td>0.953964</td>\n      <td>0.964512</td>\n      <td>0.977596</td>\n      <td>0.992281</td>\n      <td>...</td>\n      <td>0.922153</td>\n      <td>0.908506</td>\n      <td>0.894106</td>\n      <td>0.879208</td>\n      <td>0.863993</td>\n      <td>0.848596</td>\n      <td>0.833125</td>\n      <td>0.817661</td>\n      <td>0.802272</td>\n      <td>0.787010</td>\n    </tr>\n    <tr>\n      <th>...</th>\n      <th>...</th>\n      <th>...</th>\n      <td>...</td>\n      <td>...</td>\n      <td>...</td>\n      <td>...</td>\n      <td>...</td>\n      <td>...</td>\n      <td>...</td>\n      <td>...</td>\n      <td>...</td>\n      <td>...</td>\n      <td>...</td>\n      <td>...</td>\n      <td>...</td>\n      <td>...</td>\n      <td>...</td>\n      <td>...</td>\n      <td>...</td>\n      <td>...</td>\n      <td>...</td>\n      <td>...</td>\n      <td>...</td>\n    </tr>\n    <tr>\n      <th rowspan=\"5\" valign=\"top\">2014</th>\n      <th rowspan=\"5\" valign=\"top\">3</th>\n      <th>26</th>\n      <td>1.02285</td>\n      <td>1.03145</td>\n      <td>1.02143</td>\n      <td>1.02335</td>\n      <td>56478</td>\n      <td>1.001066</td>\n      <td>1.028194</td>\n      <td>1.039562</td>\n      <td>1.053665</td>\n      <td>1.069493</td>\n      <td>...</td>\n      <td>0.993908</td>\n      <td>0.979198</td>\n      <td>0.963678</td>\n      <td>0.947621</td>\n      <td>0.931222</td>\n      <td>0.914627</td>\n      <td>0.897952</td>\n      <td>0.881285</td>\n      <td>0.864698</td>\n      <td>0.848248</td>\n    </tr>\n    <tr>\n      <th>25</th>\n      <td>1.02185</td>\n      <td>1.02545</td>\n      <td>1.02130</td>\n      <td>1.02286</td>\n      <td>59060</td>\n      <td>0.999521</td>\n      <td>1.027702</td>\n      <td>1.039064</td>\n      <td>1.053160</td>\n      <td>1.068981</td>\n      <td>...</td>\n      <td>0.993432</td>\n      <td>0.978729</td>\n      <td>0.963217</td>\n      <td>0.947167</td>\n      <td>0.930776</td>\n      <td>0.914189</td>\n      <td>0.897522</td>\n      <td>0.880863</td>\n      <td>0.864284</td>\n      <td>0.847842</td>\n    </tr>\n    <tr>\n      <th>24</th>\n      <td>1.02064</td>\n      <td>1.02411</td>\n      <td>1.01641</td>\n      <td>1.02185</td>\n      <td>4474</td>\n      <td>0.999013</td>\n      <td>1.026687</td>\n      <td>1.038038</td>\n      <td>1.052120</td>\n      <td>1.067925</td>\n      <td>...</td>\n      <td>0.992451</td>\n      <td>0.977763</td>\n      <td>0.962266</td>\n      <td>0.946232</td>\n      <td>0.929857</td>\n      <td>0.913287</td>\n      <td>0.896635</td>\n      <td>0.879993</td>\n      <td>0.863430</td>\n      <td>0.847005</td>\n    </tr>\n    <tr>\n      <th>23</th>\n      <td>1.02050</td>\n      <td>1.02185</td>\n      <td>1.02034</td>\n      <td>1.02062</td>\n      <td>51348</td>\n      <td>0.998796</td>\n      <td>1.025451</td>\n      <td>1.036789</td>\n      <td>1.050854</td>\n      <td>1.066640</td>\n      <td>...</td>\n      <td>0.991256</td>\n      <td>0.976586</td>\n      <td>0.961108</td>\n      <td>0.945093</td>\n      <td>0.928737</td>\n      <td>0.912187</td>\n      <td>0.895556</td>\n      <td>0.878934</td>\n      <td>0.862391</td>\n      <td>0.845985</td>\n    </tr>\n    <tr>\n      <th>21</th>\n      <td>1.01575</td>\n      <td>1.02223</td>\n      <td>1.01416</td>\n      <td>1.01888</td>\n      <td>0</td>\n      <td>0.998295</td>\n      <td>1.023703</td>\n      <td>1.035021</td>\n      <td>1.049062</td>\n      <td>1.064821</td>\n      <td>...</td>\n      <td>0.989566</td>\n      <td>0.974921</td>\n      <td>0.959469</td>\n      <td>0.943482</td>\n      <td>0.927154</td>\n      <td>0.910632</td>\n      <td>0.894029</td>\n      <td>0.877435</td>\n      <td>0.860921</td>\n      <td>0.844543</td>\n    </tr>\n  </tbody>\n</table>\n<p>2047 rows × 30 columns</p>\n</div>"
     },
     "execution_count": 4,
     "metadata": {},
     "output_type": "execute_result"
    }
   ],
   "source": [
    "pd.read_csv('../Data/frex/D_AUDCAD.csv',index_col=[0,1,2])"
   ],
   "metadata": {
    "collapsed": false
   }
  },
  {
   "cell_type": "code",
   "execution_count": null,
   "outputs": [],
   "source": [],
   "metadata": {
    "collapsed": false
   }
  }
 ],
 "metadata": {
  "kernelspec": {
   "display_name": "Python 3",
   "language": "python",
   "name": "python3"
  },
  "language_info": {
   "codemirror_mode": {
    "name": "ipython",
    "version": 2
   },
   "file_extension": ".py",
   "mimetype": "text/x-python",
   "name": "python",
   "nbconvert_exporter": "python",
   "pygments_lexer": "ipython2",
   "version": "2.7.6"
  }
 },
 "nbformat": 4,
 "nbformat_minor": 0
}
